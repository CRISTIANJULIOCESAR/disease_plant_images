{
  "nbformat": 4,
  "nbformat_minor": 0,
  "metadata": {
    "colab": {
      "provenance": [],
      "gpuType": "T4"
    },
    "kernelspec": {
      "name": "python3",
      "display_name": "Python 3"
    },
    "language_info": {
      "name": "python"
    },
    "accelerator": "GPU",
    "widgets": {
      "application/vnd.jupyter.widget-state+json": {
        "10b2483131684c788470fe079cb037f5": {
          "model_module": "@jupyter-widgets/controls",
          "model_name": "HBoxModel",
          "model_module_version": "1.5.0",
          "state": {
            "_dom_classes": [],
            "_model_module": "@jupyter-widgets/controls",
            "_model_module_version": "1.5.0",
            "_model_name": "HBoxModel",
            "_view_count": null,
            "_view_module": "@jupyter-widgets/controls",
            "_view_module_version": "1.5.0",
            "_view_name": "HBoxView",
            "box_style": "",
            "children": [
              "IPY_MODEL_8a07304a86c94ed68ff6d0c2231a86de",
              "IPY_MODEL_1d457cf1f3b949989bc6e3ec1d12b79d",
              "IPY_MODEL_e03f468183af40c9bd5dd1318478e555"
            ],
            "layout": "IPY_MODEL_673912a0944c43039d92a351aa836cde"
          }
        },
        "8a07304a86c94ed68ff6d0c2231a86de": {
          "model_module": "@jupyter-widgets/controls",
          "model_name": "HTMLModel",
          "model_module_version": "1.5.0",
          "state": {
            "_dom_classes": [],
            "_model_module": "@jupyter-widgets/controls",
            "_model_module_version": "1.5.0",
            "_model_name": "HTMLModel",
            "_view_count": null,
            "_view_module": "@jupyter-widgets/controls",
            "_view_module_version": "1.5.0",
            "_view_name": "HTMLView",
            "description": "",
            "description_tooltip": null,
            "layout": "IPY_MODEL_cd76d9c86e7e4715834a110c1812fd29",
            "placeholder": "​",
            "style": "IPY_MODEL_04f15bbab75d4cc2a494dfc7d15756ed",
            "value": "model.safetensors: 100%"
          }
        },
        "1d457cf1f3b949989bc6e3ec1d12b79d": {
          "model_module": "@jupyter-widgets/controls",
          "model_name": "FloatProgressModel",
          "model_module_version": "1.5.0",
          "state": {
            "_dom_classes": [],
            "_model_module": "@jupyter-widgets/controls",
            "_model_module_version": "1.5.0",
            "_model_name": "FloatProgressModel",
            "_view_count": null,
            "_view_module": "@jupyter-widgets/controls",
            "_view_module_version": "1.5.0",
            "_view_name": "ProgressView",
            "bar_style": "success",
            "description": "",
            "description_tooltip": null,
            "layout": "IPY_MODEL_186b7e5979e148e69892f1e75bb2ded4",
            "max": 346284714,
            "min": 0,
            "orientation": "horizontal",
            "style": "IPY_MODEL_4d4fdcf5b5684dd689f87c49ae9702ec",
            "value": 346284714
          }
        },
        "e03f468183af40c9bd5dd1318478e555": {
          "model_module": "@jupyter-widgets/controls",
          "model_name": "HTMLModel",
          "model_module_version": "1.5.0",
          "state": {
            "_dom_classes": [],
            "_model_module": "@jupyter-widgets/controls",
            "_model_module_version": "1.5.0",
            "_model_name": "HTMLModel",
            "_view_count": null,
            "_view_module": "@jupyter-widgets/controls",
            "_view_module_version": "1.5.0",
            "_view_name": "HTMLView",
            "description": "",
            "description_tooltip": null,
            "layout": "IPY_MODEL_d89e5c0c867d481b8d2ec85c4797d527",
            "placeholder": "​",
            "style": "IPY_MODEL_fec988b1da2a459797fa93ee887127a7",
            "value": " 346M/346M [00:01&lt;00:00, 298MB/s]"
          }
        },
        "673912a0944c43039d92a351aa836cde": {
          "model_module": "@jupyter-widgets/base",
          "model_name": "LayoutModel",
          "model_module_version": "1.2.0",
          "state": {
            "_model_module": "@jupyter-widgets/base",
            "_model_module_version": "1.2.0",
            "_model_name": "LayoutModel",
            "_view_count": null,
            "_view_module": "@jupyter-widgets/base",
            "_view_module_version": "1.2.0",
            "_view_name": "LayoutView",
            "align_content": null,
            "align_items": null,
            "align_self": null,
            "border": null,
            "bottom": null,
            "display": null,
            "flex": null,
            "flex_flow": null,
            "grid_area": null,
            "grid_auto_columns": null,
            "grid_auto_flow": null,
            "grid_auto_rows": null,
            "grid_column": null,
            "grid_gap": null,
            "grid_row": null,
            "grid_template_areas": null,
            "grid_template_columns": null,
            "grid_template_rows": null,
            "height": null,
            "justify_content": null,
            "justify_items": null,
            "left": null,
            "margin": null,
            "max_height": null,
            "max_width": null,
            "min_height": null,
            "min_width": null,
            "object_fit": null,
            "object_position": null,
            "order": null,
            "overflow": null,
            "overflow_x": null,
            "overflow_y": null,
            "padding": null,
            "right": null,
            "top": null,
            "visibility": null,
            "width": null
          }
        },
        "cd76d9c86e7e4715834a110c1812fd29": {
          "model_module": "@jupyter-widgets/base",
          "model_name": "LayoutModel",
          "model_module_version": "1.2.0",
          "state": {
            "_model_module": "@jupyter-widgets/base",
            "_model_module_version": "1.2.0",
            "_model_name": "LayoutModel",
            "_view_count": null,
            "_view_module": "@jupyter-widgets/base",
            "_view_module_version": "1.2.0",
            "_view_name": "LayoutView",
            "align_content": null,
            "align_items": null,
            "align_self": null,
            "border": null,
            "bottom": null,
            "display": null,
            "flex": null,
            "flex_flow": null,
            "grid_area": null,
            "grid_auto_columns": null,
            "grid_auto_flow": null,
            "grid_auto_rows": null,
            "grid_column": null,
            "grid_gap": null,
            "grid_row": null,
            "grid_template_areas": null,
            "grid_template_columns": null,
            "grid_template_rows": null,
            "height": null,
            "justify_content": null,
            "justify_items": null,
            "left": null,
            "margin": null,
            "max_height": null,
            "max_width": null,
            "min_height": null,
            "min_width": null,
            "object_fit": null,
            "object_position": null,
            "order": null,
            "overflow": null,
            "overflow_x": null,
            "overflow_y": null,
            "padding": null,
            "right": null,
            "top": null,
            "visibility": null,
            "width": null
          }
        },
        "04f15bbab75d4cc2a494dfc7d15756ed": {
          "model_module": "@jupyter-widgets/controls",
          "model_name": "DescriptionStyleModel",
          "model_module_version": "1.5.0",
          "state": {
            "_model_module": "@jupyter-widgets/controls",
            "_model_module_version": "1.5.0",
            "_model_name": "DescriptionStyleModel",
            "_view_count": null,
            "_view_module": "@jupyter-widgets/base",
            "_view_module_version": "1.2.0",
            "_view_name": "StyleView",
            "description_width": ""
          }
        },
        "186b7e5979e148e69892f1e75bb2ded4": {
          "model_module": "@jupyter-widgets/base",
          "model_name": "LayoutModel",
          "model_module_version": "1.2.0",
          "state": {
            "_model_module": "@jupyter-widgets/base",
            "_model_module_version": "1.2.0",
            "_model_name": "LayoutModel",
            "_view_count": null,
            "_view_module": "@jupyter-widgets/base",
            "_view_module_version": "1.2.0",
            "_view_name": "LayoutView",
            "align_content": null,
            "align_items": null,
            "align_self": null,
            "border": null,
            "bottom": null,
            "display": null,
            "flex": null,
            "flex_flow": null,
            "grid_area": null,
            "grid_auto_columns": null,
            "grid_auto_flow": null,
            "grid_auto_rows": null,
            "grid_column": null,
            "grid_gap": null,
            "grid_row": null,
            "grid_template_areas": null,
            "grid_template_columns": null,
            "grid_template_rows": null,
            "height": null,
            "justify_content": null,
            "justify_items": null,
            "left": null,
            "margin": null,
            "max_height": null,
            "max_width": null,
            "min_height": null,
            "min_width": null,
            "object_fit": null,
            "object_position": null,
            "order": null,
            "overflow": null,
            "overflow_x": null,
            "overflow_y": null,
            "padding": null,
            "right": null,
            "top": null,
            "visibility": null,
            "width": null
          }
        },
        "4d4fdcf5b5684dd689f87c49ae9702ec": {
          "model_module": "@jupyter-widgets/controls",
          "model_name": "ProgressStyleModel",
          "model_module_version": "1.5.0",
          "state": {
            "_model_module": "@jupyter-widgets/controls",
            "_model_module_version": "1.5.0",
            "_model_name": "ProgressStyleModel",
            "_view_count": null,
            "_view_module": "@jupyter-widgets/base",
            "_view_module_version": "1.2.0",
            "_view_name": "StyleView",
            "bar_color": null,
            "description_width": ""
          }
        },
        "d89e5c0c867d481b8d2ec85c4797d527": {
          "model_module": "@jupyter-widgets/base",
          "model_name": "LayoutModel",
          "model_module_version": "1.2.0",
          "state": {
            "_model_module": "@jupyter-widgets/base",
            "_model_module_version": "1.2.0",
            "_model_name": "LayoutModel",
            "_view_count": null,
            "_view_module": "@jupyter-widgets/base",
            "_view_module_version": "1.2.0",
            "_view_name": "LayoutView",
            "align_content": null,
            "align_items": null,
            "align_self": null,
            "border": null,
            "bottom": null,
            "display": null,
            "flex": null,
            "flex_flow": null,
            "grid_area": null,
            "grid_auto_columns": null,
            "grid_auto_flow": null,
            "grid_auto_rows": null,
            "grid_column": null,
            "grid_gap": null,
            "grid_row": null,
            "grid_template_areas": null,
            "grid_template_columns": null,
            "grid_template_rows": null,
            "height": null,
            "justify_content": null,
            "justify_items": null,
            "left": null,
            "margin": null,
            "max_height": null,
            "max_width": null,
            "min_height": null,
            "min_width": null,
            "object_fit": null,
            "object_position": null,
            "order": null,
            "overflow": null,
            "overflow_x": null,
            "overflow_y": null,
            "padding": null,
            "right": null,
            "top": null,
            "visibility": null,
            "width": null
          }
        },
        "fec988b1da2a459797fa93ee887127a7": {
          "model_module": "@jupyter-widgets/controls",
          "model_name": "DescriptionStyleModel",
          "model_module_version": "1.5.0",
          "state": {
            "_model_module": "@jupyter-widgets/controls",
            "_model_module_version": "1.5.0",
            "_model_name": "DescriptionStyleModel",
            "_view_count": null,
            "_view_module": "@jupyter-widgets/base",
            "_view_module_version": "1.2.0",
            "_view_name": "StyleView",
            "description_width": ""
          }
        }
      }
    }
  },
  "cells": [
    {
      "cell_type": "code",
      "execution_count": 1,
      "metadata": {
        "id": "9CjD2dxc4GJH",
        "colab": {
          "base_uri": "https://localhost:8080/"
        },
        "outputId": "e9b0d351-6df9-435d-ddb0-62cb22f44588"
      },
      "outputs": [
        {
          "output_type": "stream",
          "name": "stdout",
          "text": [
            "Mounted at /content/drive\n"
          ]
        }
      ],
      "source": [
        "from google.colab import drive\n",
        "drive.mount('/content/drive')"
      ]
    },
    {
      "cell_type": "code",
      "source": [
        "import zipfile\n",
        "# Ruta del archivo ZIP que deseas descomprimir en Google Drive\n",
        "ruta_zip = '/content/drive/MyDrive/HOJAS/Hojas-20240131T050046Z-001.zip'  # Cambia esta ruta por la de tu archivo ZIP\n",
        "\n",
        "# Ruta de la carpeta donde deseas extraer los archivos\n",
        "ruta_destino = '/content/descomprimido/'  # Cambia esta ruta según tus preferencias\n",
        "\n",
        "# Descomprimir el archivo ZIP\n",
        "with zipfile.ZipFile(ruta_zip, 'r') as archivo_zip:\n",
        "    archivo_zip.extractall(ruta_destino)"
      ],
      "metadata": {
        "id": "kzV_4YGW4HCb"
      },
      "execution_count": 2,
      "outputs": []
    },
    {
      "cell_type": "code",
      "source": [
        "!pip install timm\n"
      ],
      "metadata": {
        "id": "wamw3rEz4HAP",
        "colab": {
          "base_uri": "https://localhost:8080/"
        },
        "outputId": "a1896313-2abf-47e0-f392-a53283bd48e3"
      },
      "execution_count": 3,
      "outputs": [
        {
          "output_type": "stream",
          "name": "stdout",
          "text": [
            "Collecting timm\n",
            "  Downloading timm-0.9.12-py3-none-any.whl (2.2 MB)\n",
            "\u001b[2K     \u001b[90m━━━━━━━━━━━━━━━━━━━━━━━━━━━━━━━━━━━━━━━━\u001b[0m \u001b[32m2.2/2.2 MB\u001b[0m \u001b[31m14.5 MB/s\u001b[0m eta \u001b[36m0:00:00\u001b[0m\n",
            "\u001b[?25hRequirement already satisfied: torch>=1.7 in /usr/local/lib/python3.10/dist-packages (from timm) (2.1.0+cu121)\n",
            "Requirement already satisfied: torchvision in /usr/local/lib/python3.10/dist-packages (from timm) (0.16.0+cu121)\n",
            "Requirement already satisfied: pyyaml in /usr/local/lib/python3.10/dist-packages (from timm) (6.0.1)\n",
            "Requirement already satisfied: huggingface-hub in /usr/local/lib/python3.10/dist-packages (from timm) (0.20.3)\n",
            "Requirement already satisfied: safetensors in /usr/local/lib/python3.10/dist-packages (from timm) (0.4.2)\n",
            "Requirement already satisfied: filelock in /usr/local/lib/python3.10/dist-packages (from torch>=1.7->timm) (3.13.1)\n",
            "Requirement already satisfied: typing-extensions in /usr/local/lib/python3.10/dist-packages (from torch>=1.7->timm) (4.9.0)\n",
            "Requirement already satisfied: sympy in /usr/local/lib/python3.10/dist-packages (from torch>=1.7->timm) (1.12)\n",
            "Requirement already satisfied: networkx in /usr/local/lib/python3.10/dist-packages (from torch>=1.7->timm) (3.2.1)\n",
            "Requirement already satisfied: jinja2 in /usr/local/lib/python3.10/dist-packages (from torch>=1.7->timm) (3.1.3)\n",
            "Requirement already satisfied: fsspec in /usr/local/lib/python3.10/dist-packages (from torch>=1.7->timm) (2023.6.0)\n",
            "Requirement already satisfied: triton==2.1.0 in /usr/local/lib/python3.10/dist-packages (from torch>=1.7->timm) (2.1.0)\n",
            "Requirement already satisfied: requests in /usr/local/lib/python3.10/dist-packages (from huggingface-hub->timm) (2.31.0)\n",
            "Requirement already satisfied: tqdm>=4.42.1 in /usr/local/lib/python3.10/dist-packages (from huggingface-hub->timm) (4.66.2)\n",
            "Requirement already satisfied: packaging>=20.9 in /usr/local/lib/python3.10/dist-packages (from huggingface-hub->timm) (23.2)\n",
            "Requirement already satisfied: numpy in /usr/local/lib/python3.10/dist-packages (from torchvision->timm) (1.25.2)\n",
            "Requirement already satisfied: pillow!=8.3.*,>=5.3.0 in /usr/local/lib/python3.10/dist-packages (from torchvision->timm) (9.4.0)\n",
            "Requirement already satisfied: MarkupSafe>=2.0 in /usr/local/lib/python3.10/dist-packages (from jinja2->torch>=1.7->timm) (2.1.5)\n",
            "Requirement already satisfied: charset-normalizer<4,>=2 in /usr/local/lib/python3.10/dist-packages (from requests->huggingface-hub->timm) (3.3.2)\n",
            "Requirement already satisfied: idna<4,>=2.5 in /usr/local/lib/python3.10/dist-packages (from requests->huggingface-hub->timm) (3.6)\n",
            "Requirement already satisfied: urllib3<3,>=1.21.1 in /usr/local/lib/python3.10/dist-packages (from requests->huggingface-hub->timm) (2.0.7)\n",
            "Requirement already satisfied: certifi>=2017.4.17 in /usr/local/lib/python3.10/dist-packages (from requests->huggingface-hub->timm) (2024.2.2)\n",
            "Requirement already satisfied: mpmath>=0.19 in /usr/local/lib/python3.10/dist-packages (from sympy->torch>=1.7->timm) (1.3.0)\n",
            "Installing collected packages: timm\n",
            "Successfully installed timm-0.9.12\n"
          ]
        }
      ]
    },
    {
      "cell_type": "code",
      "source": [
        "import torch\n",
        "import torchvision.transforms as transforms\n",
        "from torchvision.datasets import ImageFolder\n",
        "from torch.utils.data import DataLoader\n",
        "import torch.optim as optim\n",
        "import torch.nn as nn\n",
        "import timm  # Importa timm para acceder a modelos de transformers\n",
        "import matplotlib.pyplot as plt\n",
        "\n",
        "# Configuración del dispositivo para usar CUDA si está disponible\n",
        "device = torch.device(\"cuda\" if torch.cuda.is_available() else \"cpu\")\n",
        "\n",
        "# Definición de transformaciones para las imágenes\n",
        "transform = transforms.Compose([\n",
        "    transforms.Resize((224, 224)),  # Tamaño típico para ViT\n",
        "    transforms.ToTensor(),\n",
        "    transforms.Normalize(mean=[0.485, 0.456, 0.406], std=[0.229, 0.224, 0.225]),\n",
        "])\n",
        "\n",
        "# Función para cargar datos\n",
        "def load_data(train_directory, test_directory):\n",
        "    datasets = {\n",
        "        \"train\": ImageFolder(root=train_directory, transform=transform),\n",
        "        \"test\": ImageFolder(root=test_directory, transform=transform)\n",
        "    }\n",
        "    dataloaders = {\n",
        "        x: DataLoader(datasets[x], batch_size=32, shuffle=True) for x in ['train', 'test']\n",
        "    }\n",
        "    return dataloaders\n",
        "\n",
        "# Cargar y preparar el modelo ViT\n",
        "def prepare_model(num_classes):\n",
        "    # Carga un modelo ViT preentrenado. Asegúrate de elegir un modelo adecuado de timm.\n",
        "    model = timm.create_model('vit_base_patch16_224', pretrained=True)\n",
        "    # Ajusta la última capa al número de clases de tu conjunto de datos\n",
        "    model.head = nn.Linear(model.head.in_features, num_classes)\n",
        "    return model.to(device)\n",
        "\n",
        "# Entrenamiento del modelo (esta función se mantiene igual)\n",
        "def train_and_evaluate_model(model, dataloaders, epochs=5):\n",
        "    optimizer = optim.Adam(model.parameters(), lr=0.001)\n",
        "    criterion = nn.CrossEntropyLoss()\n",
        "\n",
        "    train_losses, test_losses = [], []\n",
        "    train_accuracies, test_accuracies = [], []\n",
        "\n",
        "    for epoch in range(epochs):\n",
        "        model.train()\n",
        "        running_loss = 0.0\n",
        "        correct = total = 0\n",
        "\n",
        "        for inputs, labels in dataloaders['train']:\n",
        "            inputs, labels = inputs.to(device), labels.to(device)\n",
        "            optimizer.zero_grad()\n",
        "            outputs = model(inputs)\n",
        "            loss = criterion(outputs, labels)\n",
        "            loss.backward()\n",
        "            optimizer.step()\n",
        "\n",
        "            running_loss += loss.item()\n",
        "            _, predicted = torch.max(outputs.data, 1)\n",
        "            total += labels.size(0)\n",
        "            correct += (predicted == labels).sum().item()\n",
        "\n",
        "        train_losses.append(running_loss / len(dataloaders['train']))\n",
        "        train_accuracies.append(100 * correct / total)\n",
        "\n",
        "        model.eval()\n",
        "        test_loss = 0.0\n",
        "        correct = total = 0\n",
        "        with torch.no_grad():\n",
        "            for inputs, labels in dataloaders['test']:\n",
        "                inputs, labels = inputs.to(device), labels.to(device)\n",
        "                outputs = model(inputs)\n",
        "                loss = criterion(outputs, labels)\n",
        "                test_loss += loss.item()\n",
        "                _, predicted = torch.max(outputs.data, 1)\n",
        "                total += labels.size(0)\n",
        "                correct += (predicted == labels).sum().item()\n",
        "\n",
        "        test_losses.append(test_loss / len(dataloaders['test']))\n",
        "        test_accuracies.append(100 * correct / total)\n",
        "\n",
        "        print(f'Epoch {epoch+1}/{epochs}, Train Loss: {train_losses[-1]:.4f}, Test Loss: {test_losses[-1]:.4f}, '\n",
        "              f'Train Accuracy: {train_accuracies[-1]:.2f}%, Test Accuracy: {test_accuracies[-1]:.2f}%')\n",
        "\n",
        "    return train_losses, test_losses, train_accuracies, test_accuracies\n",
        "\n",
        "# Directorios de entrenamiento y validación (ajusta estas rutas según tu configuración)\n",
        "train_directory = '/content/descomprimido/Hojas/Train'\n",
        "test_directory = '/content/descomprimido/Hojas/Test'\n",
        "# Cargar datos de entrenamiento y validación\n",
        "dataloaders = load_data(train_directory, test_directory)\n",
        "\n",
        "# Definir el número de clases\n",
        "num_classes = 3  # Ajusta esto según tu conjunto de datos específico\n",
        "\n",
        "# Preparar y entrenar el modelo\n",
        "model = prepare_model(num_classes)\n",
        "# Ejecutar entrenamiento y evaluación\n",
        "#train_losses, test_losses, train_accuracies, test_accuracies = train_and_evaluate_model(model, dataloaders, epochs=20)\n"
      ],
      "metadata": {
        "id": "YaUq6-yd4G9g",
        "colab": {
          "base_uri": "https://localhost:8080/",
          "height": 176,
          "referenced_widgets": [
            "10b2483131684c788470fe079cb037f5",
            "8a07304a86c94ed68ff6d0c2231a86de",
            "1d457cf1f3b949989bc6e3ec1d12b79d",
            "e03f468183af40c9bd5dd1318478e555",
            "673912a0944c43039d92a351aa836cde",
            "cd76d9c86e7e4715834a110c1812fd29",
            "04f15bbab75d4cc2a494dfc7d15756ed",
            "186b7e5979e148e69892f1e75bb2ded4",
            "4d4fdcf5b5684dd689f87c49ae9702ec",
            "d89e5c0c867d481b8d2ec85c4797d527",
            "fec988b1da2a459797fa93ee887127a7"
          ]
        },
        "outputId": "ceed5165-c297-44cb-b5bf-3e1a950eeac2"
      },
      "execution_count": 4,
      "outputs": [
        {
          "output_type": "stream",
          "name": "stderr",
          "text": [
            "/usr/local/lib/python3.10/dist-packages/huggingface_hub/utils/_token.py:88: UserWarning: \n",
            "The secret `HF_TOKEN` does not exist in your Colab secrets.\n",
            "To authenticate with the Hugging Face Hub, create a token in your settings tab (https://huggingface.co/settings/tokens), set it as secret in your Google Colab and restart your session.\n",
            "You will be able to reuse this secret in all of your notebooks.\n",
            "Please note that authentication is recommended but still optional to access public models or datasets.\n",
            "  warnings.warn(\n"
          ]
        },
        {
          "output_type": "display_data",
          "data": {
            "text/plain": [
              "model.safetensors:   0%|          | 0.00/346M [00:00<?, ?B/s]"
            ],
            "application/vnd.jupyter.widget-view+json": {
              "version_major": 2,
              "version_minor": 0,
              "model_id": "10b2483131684c788470fe079cb037f5"
            }
          },
          "metadata": {}
        }
      ]
    },
    {
      "cell_type": "code",
      "source": [
        "# Ejecutar entrenamiento y evaluación\n",
        "train_losses, test_losses, train_accuracies, test_accuracies = train_and_evaluate_model(model, dataloaders, epochs=20)\n",
        "\n",
        "# Graficar pérdidas\n",
        "plt.figure(figsize=(10, 4))\n",
        "plt.subplot(1, 2, 1)\n",
        "plt.plot(train_losses, label='Train Loss')\n",
        "plt.plot(test_losses, label='Validation Loss')\n",
        "plt.title('Loss vs. Epochs')\n",
        "plt.xlabel('Epochs')\n",
        "plt.ylabel('Loss')\n",
        "plt.legend()\n",
        "\n",
        "\n",
        "# Graficar precisión\n",
        "plt.subplot(1, 2, 2)\n",
        "plt.plot(train_accuracies, label='Train Accuracy')\n",
        "plt.plot(test_accuracies, label='Validation Accuracy')\n",
        "plt.title('Accuracy vs. Epochs')\n",
        "plt.xlabel('Epochs')\n",
        "plt.ylabel('Accuracy (%)')\n",
        "plt.legend()\n",
        "\n",
        "plt.tight_layout()\n",
        "plt.show()"
      ],
      "metadata": {
        "id": "BC5QDcBO4TXa",
        "colab": {
          "base_uri": "https://localhost:8080/",
          "height": 764
        },
        "outputId": "85ae2779-9826-4d56-dfc6-946f6b8a4538"
      },
      "execution_count": 5,
      "outputs": [
        {
          "output_type": "stream",
          "name": "stdout",
          "text": [
            "Epoch 1/20, Train Loss: 1.1409, Test Loss: 0.3417, Train Accuracy: 63.61%, Test Accuracy: 85.47%\n",
            "Epoch 2/20, Train Loss: 0.3095, Test Loss: 0.0938, Train Accuracy: 89.21%, Test Accuracy: 97.58%\n",
            "Epoch 3/20, Train Loss: 0.1660, Test Loss: 0.1449, Train Accuracy: 94.85%, Test Accuracy: 94.43%\n",
            "Epoch 4/20, Train Loss: 0.1341, Test Loss: 0.0626, Train Accuracy: 95.69%, Test Accuracy: 98.06%\n",
            "Epoch 5/20, Train Loss: 0.1651, Test Loss: 0.1167, Train Accuracy: 94.30%, Test Accuracy: 97.34%\n",
            "Epoch 6/20, Train Loss: 0.0698, Test Loss: 0.0838, Train Accuracy: 97.70%, Test Accuracy: 97.09%\n",
            "Epoch 7/20, Train Loss: 0.1058, Test Loss: 0.0511, Train Accuracy: 96.79%, Test Accuracy: 98.06%\n",
            "Epoch 8/20, Train Loss: 0.0424, Test Loss: 0.0554, Train Accuracy: 98.73%, Test Accuracy: 97.58%\n",
            "Epoch 9/20, Train Loss: 0.0566, Test Loss: 0.0453, Train Accuracy: 97.88%, Test Accuracy: 98.79%\n",
            "Epoch 10/20, Train Loss: 0.0422, Test Loss: 0.1864, Train Accuracy: 98.61%, Test Accuracy: 94.92%\n",
            "Epoch 11/20, Train Loss: 0.0477, Test Loss: 0.0132, Train Accuracy: 98.30%, Test Accuracy: 99.76%\n",
            "Epoch 12/20, Train Loss: 0.0475, Test Loss: 0.3394, Train Accuracy: 98.79%, Test Accuracy: 88.14%\n",
            "Epoch 13/20, Train Loss: 0.0720, Test Loss: 0.1280, Train Accuracy: 97.88%, Test Accuracy: 95.40%\n",
            "Epoch 14/20, Train Loss: 0.0544, Test Loss: 0.0390, Train Accuracy: 98.06%, Test Accuracy: 99.27%\n",
            "Epoch 15/20, Train Loss: 0.0533, Test Loss: 0.0502, Train Accuracy: 98.06%, Test Accuracy: 98.79%\n",
            "Epoch 16/20, Train Loss: 0.0456, Test Loss: 0.0712, Train Accuracy: 97.76%, Test Accuracy: 98.31%\n",
            "Epoch 17/20, Train Loss: 0.0762, Test Loss: 0.0657, Train Accuracy: 97.88%, Test Accuracy: 97.82%\n",
            "Epoch 18/20, Train Loss: 0.1291, Test Loss: 0.1997, Train Accuracy: 95.09%, Test Accuracy: 92.25%\n",
            "Epoch 19/20, Train Loss: 0.1593, Test Loss: 0.1146, Train Accuracy: 93.45%, Test Accuracy: 96.37%\n",
            "Epoch 20/20, Train Loss: 0.0724, Test Loss: 0.0554, Train Accuracy: 97.51%, Test Accuracy: 97.82%\n"
          ]
        },
        {
          "output_type": "display_data",
          "data": {
            "text/plain": [
              "<Figure size 1000x400 with 2 Axes>"
            ],
            "image/png": "[encoded data removed]"
          },
          "metadata": {}
        }
      ]
    }
  ]
}